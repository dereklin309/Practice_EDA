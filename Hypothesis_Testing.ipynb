{
 "cells": [
  {
   "cell_type": "markdown",
   "metadata": {},
   "source": [
    "What is hypothesis testing?"
   ]
  },
  {
   "cell_type": "markdown",
   "metadata": {},
   "source": [
    "Hypothesis Testing let you evaluate if the data at hand is sufficient to reject or to accept a null hypothesis. "
   ]
  },
  {
   "cell_type": "markdown",
   "metadata": {},
   "source": [
    "T-Distribution table: https://www.sjsu.edu/faculty/gerstman/StatPrimer/t-table.pdf"
   ]
  },
  {
   "cell_type": "markdown",
   "metadata": {},
   "source": [
    "Two important values in hypothesis testing:\n",
    "-   T-Statistics = provide the variance between the sample and the hypothesis mean. Can be compare to a critical value (function that depend on the degree of freedom and the confidence interval).\n",
    "-   p-value = indicates the probability, assuming that the null hypothesis is true, to attain results AS OR MORE extreme than the sample"
   ]
  },
  {
   "cell_type": "markdown",
   "metadata": {},
   "source": [
    "Types of hypothesis testing\n",
    "\n",
    "Assuming that we have a normal distribution\n",
    "\n",
    "-   For Quantitative variable:\n",
    "    -   1 sample T-test - One Sample\n",
    "    -   2 sample T-test - Two Sample\n",
    "    -   2 sample T-test / Pared T - Two Sample special\n",
    "    -   Correlation/regression - Two Sample special\n",
    "    -   One Way ANOVA - Three or more sample\n",
    "-   For Categorical variables:\n",
    "    -   1 Sample proportion\n",
    "    -   2 Sample proportion\n",
    "\n",
    "                 \n"
   ]
  },
  {
   "cell_type": "markdown",
   "metadata": {},
   "source": []
  },
  {
   "cell_type": "markdown",
   "metadata": {},
   "source": [
    "Example of 1 Sample T-test\n",
    "Ho: Theres no difference between the sample mean and the hypothesized mean"
   ]
  },
  {
   "cell_type": "code",
   "execution_count": 15,
   "metadata": {},
   "outputs": [
    {
     "name": "stdout",
     "output_type": "stream",
     "text": [
      "T-statistic: -117.77432595945358\n",
      "P-value: 1.1648306139775258e-15\n",
      "Sample_mean: 69\n",
      "critical_value: 1.8331129326536333\n"
     ]
    }
   ],
   "source": [
    "import numpy as np\n",
    "import scipy.stats as stats\n",
    "import statistics\n",
    "\n",
    "# Sample data\n",
    "data = np.array([68, 72, 63, 71, 69, 70, 66, 68, 75, 73])\n",
    "\n",
    "# Critical value\n",
    "critical_value = stats.t.ppf(1 - 0.05, len(data)-1)\n",
    "\n",
    "# Hypothesized mean\n",
    "hypothesized_mean = 200\n",
    "\n",
    "# Perform one-sample t-test\n",
    "t_statistic, p_value = stats.ttest_1samp(data, hypothesized_mean)\n",
    "\n",
    "# Print the results\n",
    "print(\"T-statistic:\", t_statistic)\n",
    "print(\"P-value:\", p_value)\n",
    "print(\"Sample_mean:\", statistics.mean(data))\n",
    "print(\"critical_value: {}\".format(critical_value))"
   ]
  },
  {
   "cell_type": "markdown",
   "metadata": {},
   "source": [
    "-   A negative T-statistic indicates tha the sample mean is lower than the hypothesized mean but with a relatively small t-statistic value.\n",
    "\n",
    "-   Assuming that we have a confidence interval of 5%. Our p-value < 0.05, therefore we have a proability of 0% to obtain a result as extreme or more than the observed. Then we have enough evidence to reject the null hypothesis and conclude that there is a significant difference between the population mean and the hypothesiszed mean.\n",
    "\n",
    "-   Critical value, represent the treshold beyond which we would reject the null hypothesis. In our case the t-statistic is larger than the critical value, so there is a significant statistical difference.\n"
   ]
  },
  {
   "cell_type": "markdown",
   "metadata": {},
   "source": [
    "Example of 2 Sample T-test"
   ]
  },
  {
   "cell_type": "code",
   "execution_count": 25,
   "metadata": {},
   "outputs": [
    {
     "name": "stdout",
     "output_type": "stream",
     "text": [
      "T-statistic: 5.511574338841481\n",
      "P-value: 3.1108637722806286e-05\n",
      "group_a_mean: 55\n",
      "group_b_mean: 2\n",
      "critical_value: 1.8331129326536333\n"
     ]
    }
   ],
   "source": [
    "import numpy as np\n",
    "import scipy.stats as stats\n",
    "\n",
    "# Data for Group A (Method A)\n",
    "group_a_scores = np.array([10,20,30,40,50,60,70,80,90,100])\n",
    "\n",
    "# Data for Group B (Method B)\n",
    "group_b_scores = np.array([1,2,3,4,1,2,3,1,2,3])\n",
    "\n",
    "# Perform two-sample t-test\n",
    "t_statistic, p_value = stats.ttest_ind(group_a_scores, group_b_scores)\n",
    "\n",
    "# Critical value\n",
    "critical_value = stats.t.ppf(1 - 0.05, len(group_a_scores)-1)\n",
    "\n",
    "# Print the results\n",
    "print(\"T-statistic:\", t_statistic)\n",
    "print(\"P-value:\", p_value)\n",
    "print(\"group_a_mean:\", statistics.mean(group_a_scores))\n",
    "print(\"group_b_mean:\", statistics.mean(group_b_scores))\n",
    "print(\"critical_value: {}\".format(critical_value))\n"
   ]
  },
  {
   "cell_type": "markdown",
   "metadata": {},
   "source": [
    "-   A t-statistic value of 1.36 indicates tha theres a difference between the means of group a and b. An positive value indicates that the mean of group A is larger than group B\n",
    "-   A p value of 0.21 > 0.05 indicates a probability of 21% of obtaining as or more extreme result. Therefore we do not have enough evidence to reject the null hypothesis and conclude that theres is no significance difference between the means of group A and B"
   ]
  },
  {
   "cell_type": "markdown",
   "metadata": {},
   "source": [
    "Example 3 - Hypothesis testing for population correlalation coefficient"
   ]
  },
  {
   "cell_type": "markdown",
   "metadata": {},
   "source": [
    "-   Ho: Theres no correlation between views and subscriber\n",
    "-   H1: theres significant correlation (If we used a two tailed or one tailed can be + or -)"
   ]
  },
  {
   "cell_type": "code",
   "execution_count": 6,
   "metadata": {},
   "outputs": [
    {
     "name": "stdout",
     "output_type": "stream",
     "text": [
      "Pearson coefficient: 0.9067347546522939\n",
      "T-statistic: 8.045244003411423\n",
      "P-value: 1.282361535047497e-06\n",
      "critical_value: 2.1447866879169273\n"
     ]
    }
   ],
   "source": [
    "from scipy.stats import pearsonr\n",
    "\n",
    "Views=[\n",
    "    17988, 14834, 10916, 21937, 15200, 8250, 16630, 8592,\n",
    "23032, 25949, 16799, 28331, 22519, 17511, 9323, 24501\n",
    "]\n",
    "\n",
    "df = len(Views)-2\n",
    "\n",
    "subs_gained=[\n",
    "    83, 76, 67, 120, 93, 51, 82, 69, 120, 116,\n",
    "    102, 112, 115, 104, 45, 129\n",
    "]\n",
    "\n",
    "# Perform Pearson correlation test\n",
    "corr_coef, p_value = pearsonr(Views, subs_gained)\n",
    "\n",
    "t_statistic = corr_coef * (len(Views) - 2)**0.5 / ((1 - corr_coef**2)**0.5)\n",
    "\n",
    "# Critical value\n",
    "critical_value = stats.t.ppf(1 - 0.025, len(Views)-2)\n",
    "\n",
    "# Print the T-statistic and p-value\n",
    "print(\"Pearson coefficient: {}\".format(corr_coef) )\n",
    "print(\"T-statistic:\", t_statistic)\n",
    "print(\"P-value:\", p_value)\n",
    "print(\"critical_value: {}\".format(critical_value))\n"
   ]
  },
  {
   "cell_type": "markdown",
   "metadata": {},
   "source": [
    "- Pvalue < 0.05, therefore a significant linear correlation at, 5% level of significance, between video views and subscribers gained. We reject the null hypothesis."
   ]
  },
  {
   "cell_type": "markdown",
   "metadata": {},
   "source": []
  },
  {
   "cell_type": "markdown",
   "metadata": {},
   "source": []
  },
  {
   "cell_type": "markdown",
   "metadata": {},
   "source": []
  },
  {
   "cell_type": "markdown",
   "metadata": {},
   "source": []
  },
  {
   "cell_type": "markdown",
   "metadata": {},
   "source": []
  },
  {
   "cell_type": "markdown",
   "metadata": {},
   "source": []
  },
  {
   "cell_type": "markdown",
   "metadata": {},
   "source": []
  },
  {
   "cell_type": "markdown",
   "metadata": {},
   "source": []
  },
  {
   "cell_type": "markdown",
   "metadata": {},
   "source": []
  }
 ],
 "metadata": {
  "kernelspec": {
   "display_name": "Python 3.8.16 64-bit ('venv')",
   "language": "python",
   "name": "python3"
  },
  "language_info": {
   "codemirror_mode": {
    "name": "ipython",
    "version": 3
   },
   "file_extension": ".py",
   "mimetype": "text/x-python",
   "name": "python",
   "nbconvert_exporter": "python",
   "pygments_lexer": "ipython3",
   "version": "3.8.16"
  },
  "orig_nbformat": 4,
  "vscode": {
   "interpreter": {
    "hash": "9c7d38d05ea5db931e451cf0ba2a328203d49853faf9a6a6b7711a1531ba81d2"
   }
  }
 },
 "nbformat": 4,
 "nbformat_minor": 2
}
