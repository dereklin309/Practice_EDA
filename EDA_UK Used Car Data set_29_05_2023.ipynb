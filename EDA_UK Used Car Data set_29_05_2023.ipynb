{
 "cells": [
  {
   "cell_type": "code",
   "execution_count": 63,
   "metadata": {},
   "outputs": [],
   "source": [
    "#Import Libraries\n",
    "import pandas as pd\n",
    "import seaborn as sns\n",
    "from matplotlib import pyplot as plt\n",
    "import glob\n",
    "import os"
   ]
  },
  {
   "cell_type": "code",
   "execution_count": 64,
   "metadata": {},
   "outputs": [],
   "source": [
    "# Specify the path where your CSV files are located\n",
    "csv_files = glob.glob('Data/Cars/*.csv')\n",
    "\n",
    "# Initialize an empty list to store individual DataFrames\n",
    "dfs = []\n",
    "\n",
    "# Iterate through each CSV file and read it into a DataFrame\n",
    "for file in csv_files:\n",
    "    df = pd.read_csv(file)\n",
    "    file = file[10:-4]\n",
    "    df['Brand'] = file \n",
    "    dfs.append(df)\n",
    "\n",
    "# Concatenate all DataFrames into a single DataFrame\n",
    "combined_df = pd.concat(dfs, ignore_index=True)\n"
   ]
  },
  {
   "cell_type": "code",
   "execution_count": 84,
   "metadata": {},
   "outputs": [],
   "source": [
    "#Create a copy of df to use\n",
    "df = combined_df.copy()\n",
    "df = df.drop('tax(£)', axis=1)"
   ]
  },
  {
   "cell_type": "code",
   "execution_count": 83,
   "metadata": {},
   "outputs": [
    {
     "name": "stdout",
     "output_type": "stream",
     "text": [
      "<class 'pandas.core.frame.DataFrame'>\n",
      "Index: 102462 entries, 0 to 104640\n",
      "Data columns (total 10 columns):\n",
      " #   Column        Non-Null Count   Dtype  \n",
      "---  ------        --------------   -----  \n",
      " 0   model         102462 non-null  object \n",
      " 1   year          102462 non-null  int64  \n",
      " 2   price         102462 non-null  int64  \n",
      " 3   transmission  102462 non-null  object \n",
      " 4   mileage       102462 non-null  int64  \n",
      " 5   fuelType      102462 non-null  object \n",
      " 6   tax           92938 non-null   float64\n",
      " 7   mpg           97704 non-null   float64\n",
      " 8   engineSize    102462 non-null  float64\n",
      " 9   Brand         102462 non-null  object \n",
      "dtypes: float64(3), int64(3), object(4)\n",
      "memory usage: 8.6+ MB\n"
     ]
    }
   ],
   "source": [
    "df.info()"
   ]
  },
  {
   "cell_type": "code",
   "execution_count": 85,
   "metadata": {},
   "outputs": [
    {
     "data": {
      "text/plain": [
       "2179"
      ]
     },
     "execution_count": 85,
     "metadata": {},
     "output_type": "execute_result"
    }
   ],
   "source": [
    "#Checking for duplicatesd row - very low probabilities to have the same combinations of features, most likely a typo\n",
    "df.duplicated().sum()"
   ]
  },
  {
   "cell_type": "code",
   "execution_count": 86,
   "metadata": {},
   "outputs": [],
   "source": [
    "#Dropping duplicates\n",
    "df.drop_duplicates(inplace=True)"
   ]
  },
  {
   "cell_type": "code",
   "execution_count": 88,
   "metadata": {},
   "outputs": [
    {
     "data": {
      "text/plain": [
       "0"
      ]
     },
     "execution_count": 88,
     "metadata": {},
     "output_type": "execute_result"
    }
   ],
   "source": [
    "#Check for duplicates\n",
    "df.duplicated().sum()"
   ]
  },
  {
   "cell_type": "code",
   "execution_count": 87,
   "metadata": {},
   "outputs": [
    {
     "data": {
      "text/html": [
       "<div>\n",
       "<style scoped>\n",
       "    .dataframe tbody tr th:only-of-type {\n",
       "        vertical-align: middle;\n",
       "    }\n",
       "\n",
       "    .dataframe tbody tr th {\n",
       "        vertical-align: top;\n",
       "    }\n",
       "\n",
       "    .dataframe thead th {\n",
       "        text-align: right;\n",
       "    }\n",
       "</style>\n",
       "<table border=\"1\" class=\"dataframe\">\n",
       "  <thead>\n",
       "    <tr style=\"text-align: right;\">\n",
       "      <th></th>\n",
       "      <th>model</th>\n",
       "      <th>year</th>\n",
       "      <th>price</th>\n",
       "      <th>transmission</th>\n",
       "      <th>mileage</th>\n",
       "      <th>fuelType</th>\n",
       "      <th>tax</th>\n",
       "      <th>mpg</th>\n",
       "      <th>engineSize</th>\n",
       "      <th>Brand</th>\n",
       "    </tr>\n",
       "  </thead>\n",
       "  <tbody>\n",
       "    <tr>\n",
       "      <th>0</th>\n",
       "      <td>A1</td>\n",
       "      <td>2017</td>\n",
       "      <td>12500</td>\n",
       "      <td>Manual</td>\n",
       "      <td>15735</td>\n",
       "      <td>Petrol</td>\n",
       "      <td>150.0</td>\n",
       "      <td>55.4</td>\n",
       "      <td>1.4</td>\n",
       "      <td>audi</td>\n",
       "    </tr>\n",
       "    <tr>\n",
       "      <th>1</th>\n",
       "      <td>A6</td>\n",
       "      <td>2016</td>\n",
       "      <td>16500</td>\n",
       "      <td>Automatic</td>\n",
       "      <td>36203</td>\n",
       "      <td>Diesel</td>\n",
       "      <td>20.0</td>\n",
       "      <td>64.2</td>\n",
       "      <td>2.0</td>\n",
       "      <td>audi</td>\n",
       "    </tr>\n",
       "    <tr>\n",
       "      <th>2</th>\n",
       "      <td>A1</td>\n",
       "      <td>2016</td>\n",
       "      <td>11000</td>\n",
       "      <td>Manual</td>\n",
       "      <td>29946</td>\n",
       "      <td>Petrol</td>\n",
       "      <td>30.0</td>\n",
       "      <td>55.4</td>\n",
       "      <td>1.4</td>\n",
       "      <td>audi</td>\n",
       "    </tr>\n",
       "    <tr>\n",
       "      <th>3</th>\n",
       "      <td>A4</td>\n",
       "      <td>2017</td>\n",
       "      <td>16800</td>\n",
       "      <td>Automatic</td>\n",
       "      <td>25952</td>\n",
       "      <td>Diesel</td>\n",
       "      <td>145.0</td>\n",
       "      <td>67.3</td>\n",
       "      <td>2.0</td>\n",
       "      <td>audi</td>\n",
       "    </tr>\n",
       "    <tr>\n",
       "      <th>4</th>\n",
       "      <td>A3</td>\n",
       "      <td>2019</td>\n",
       "      <td>17300</td>\n",
       "      <td>Manual</td>\n",
       "      <td>1998</td>\n",
       "      <td>Petrol</td>\n",
       "      <td>145.0</td>\n",
       "      <td>49.6</td>\n",
       "      <td>1.0</td>\n",
       "      <td>audi</td>\n",
       "    </tr>\n",
       "  </tbody>\n",
       "</table>\n",
       "</div>"
      ],
      "text/plain": [
       "  model  year  price transmission  mileage fuelType    tax   mpg  engineSize  \\\n",
       "0    A1  2017  12500       Manual    15735   Petrol  150.0  55.4         1.4   \n",
       "1    A6  2016  16500    Automatic    36203   Diesel   20.0  64.2         2.0   \n",
       "2    A1  2016  11000       Manual    29946   Petrol   30.0  55.4         1.4   \n",
       "3    A4  2017  16800    Automatic    25952   Diesel  145.0  67.3         2.0   \n",
       "4    A3  2019  17300       Manual     1998   Petrol  145.0  49.6         1.0   \n",
       "\n",
       "  Brand  \n",
       "0  audi  \n",
       "1  audi  \n",
       "2  audi  \n",
       "3  audi  \n",
       "4  audi  "
      ]
     },
     "execution_count": 87,
     "metadata": {},
     "output_type": "execute_result"
    }
   ],
   "source": [
    "df.head()"
   ]
  },
  {
   "cell_type": "code",
   "execution_count": 89,
   "metadata": {},
   "outputs": [
    {
     "name": "stdout",
     "output_type": "stream",
     "text": [
      "This dataset has  102462  rows and  10  columns\n"
     ]
    }
   ],
   "source": [
    "num_rows, num_columns = df.shape\n",
    "print(\"This dataset has \", num_rows, \" rows and \", num_columns, \" columns\")"
   ]
  },
  {
   "cell_type": "code",
   "execution_count": 90,
   "metadata": {},
   "outputs": [
    {
     "data": {
      "text/plain": [
       "model              0\n",
       "year               0\n",
       "price              0\n",
       "transmission       0\n",
       "mileage            0\n",
       "fuelType           0\n",
       "tax             9524\n",
       "mpg             4758\n",
       "engineSize         0\n",
       "Brand              0\n",
       "dtype: int64"
      ]
     },
     "execution_count": 90,
     "metadata": {},
     "output_type": "execute_result"
    }
   ],
   "source": [
    "#Check nulls\n",
    "df.isna().sum()"
   ]
  },
  {
   "cell_type": "code",
   "execution_count": 91,
   "metadata": {},
   "outputs": [],
   "source": [
    "#Handling missing values\n",
    "df['tax']=df['tax'].fillna(df['tax'].mean())\n",
    "df['mpg']=df['mpg'].fillna(df['mpg'].mean())"
   ]
  },
  {
   "cell_type": "code",
   "execution_count": 92,
   "metadata": {},
   "outputs": [
    {
     "data": {
      "text/plain": [
       "model           0\n",
       "year            0\n",
       "price           0\n",
       "transmission    0\n",
       "mileage         0\n",
       "fuelType        0\n",
       "tax             0\n",
       "mpg             0\n",
       "engineSize      0\n",
       "Brand           0\n",
       "dtype: int64"
      ]
     },
     "execution_count": 92,
     "metadata": {},
     "output_type": "execute_result"
    }
   ],
   "source": [
    "#Check nulls\n",
    "df.isna().sum()"
   ]
  },
  {
   "cell_type": "code",
   "execution_count": 94,
   "metadata": {},
   "outputs": [
    {
     "data": {
      "text/html": [
       "<div>\n",
       "<style scoped>\n",
       "    .dataframe tbody tr th:only-of-type {\n",
       "        vertical-align: middle;\n",
       "    }\n",
       "\n",
       "    .dataframe tbody tr th {\n",
       "        vertical-align: top;\n",
       "    }\n",
       "\n",
       "    .dataframe thead th {\n",
       "        text-align: right;\n",
       "    }\n",
       "</style>\n",
       "<table border=\"1\" class=\"dataframe\">\n",
       "  <thead>\n",
       "    <tr style=\"text-align: right;\">\n",
       "      <th></th>\n",
       "      <th>count</th>\n",
       "      <th>mean</th>\n",
       "      <th>std</th>\n",
       "      <th>min</th>\n",
       "      <th>25%</th>\n",
       "      <th>50%</th>\n",
       "      <th>75%</th>\n",
       "      <th>max</th>\n",
       "    </tr>\n",
       "  </thead>\n",
       "  <tbody>\n",
       "    <tr>\n",
       "      <th>year</th>\n",
       "      <td>102462.0</td>\n",
       "      <td>2017.06</td>\n",
       "      <td>2.13</td>\n",
       "      <td>1970.0</td>\n",
       "      <td>2016.00</td>\n",
       "      <td>2017.00</td>\n",
       "      <td>2019.0</td>\n",
       "      <td>2060.0</td>\n",
       "    </tr>\n",
       "    <tr>\n",
       "      <th>price</th>\n",
       "      <td>102462.0</td>\n",
       "      <td>16610.12</td>\n",
       "      <td>9717.26</td>\n",
       "      <td>450.0</td>\n",
       "      <td>9999.00</td>\n",
       "      <td>14298.00</td>\n",
       "      <td>20300.0</td>\n",
       "      <td>159999.0</td>\n",
       "    </tr>\n",
       "    <tr>\n",
       "      <th>mileage</th>\n",
       "      <td>102462.0</td>\n",
       "      <td>23250.27</td>\n",
       "      <td>21065.37</td>\n",
       "      <td>1.0</td>\n",
       "      <td>7800.00</td>\n",
       "      <td>17642.50</td>\n",
       "      <td>32457.0</td>\n",
       "      <td>323000.0</td>\n",
       "    </tr>\n",
       "    <tr>\n",
       "      <th>tax</th>\n",
       "      <td>102462.0</td>\n",
       "      <td>120.09</td>\n",
       "      <td>60.59</td>\n",
       "      <td>0.0</td>\n",
       "      <td>120.09</td>\n",
       "      <td>145.00</td>\n",
       "      <td>145.0</td>\n",
       "      <td>580.0</td>\n",
       "    </tr>\n",
       "    <tr>\n",
       "      <th>mpg</th>\n",
       "      <td>102462.0</td>\n",
       "      <td>55.21</td>\n",
       "      <td>15.80</td>\n",
       "      <td>0.3</td>\n",
       "      <td>47.10</td>\n",
       "      <td>55.21</td>\n",
       "      <td>62.8</td>\n",
       "      <td>470.8</td>\n",
       "    </tr>\n",
       "    <tr>\n",
       "      <th>engineSize</th>\n",
       "      <td>102462.0</td>\n",
       "      <td>1.65</td>\n",
       "      <td>0.56</td>\n",
       "      <td>0.0</td>\n",
       "      <td>1.20</td>\n",
       "      <td>1.50</td>\n",
       "      <td>2.0</td>\n",
       "      <td>6.6</td>\n",
       "    </tr>\n",
       "  </tbody>\n",
       "</table>\n",
       "</div>"
      ],
      "text/plain": [
       "               count      mean       std     min      25%       50%      75%  \\\n",
       "year        102462.0   2017.06      2.13  1970.0  2016.00   2017.00   2019.0   \n",
       "price       102462.0  16610.12   9717.26   450.0  9999.00  14298.00  20300.0   \n",
       "mileage     102462.0  23250.27  21065.37     1.0  7800.00  17642.50  32457.0   \n",
       "tax         102462.0    120.09     60.59     0.0   120.09    145.00    145.0   \n",
       "mpg         102462.0     55.21     15.80     0.3    47.10     55.21     62.8   \n",
       "engineSize  102462.0      1.65      0.56     0.0     1.20      1.50      2.0   \n",
       "\n",
       "                 max  \n",
       "year          2060.0  \n",
       "price       159999.0  \n",
       "mileage     323000.0  \n",
       "tax            580.0  \n",
       "mpg            470.8  \n",
       "engineSize       6.6  "
      ]
     },
     "execution_count": 94,
     "metadata": {},
     "output_type": "execute_result"
    }
   ],
   "source": [
    "#Initial diagnosis\n",
    "df.describe().T.round(2)"
   ]
  },
  {
   "cell_type": "code",
   "execution_count": 12,
   "metadata": {},
   "outputs": [
    {
     "name": "stdout",
     "output_type": "stream",
     "text": [
      "Categorical Features: \n"
     ]
    },
    {
     "data": {
      "text/plain": [
       "['model', 'transmission', 'fuelType', 'Brand']"
      ]
     },
     "execution_count": 12,
     "metadata": {},
     "output_type": "execute_result"
    }
   ],
   "source": [
    "cat_features = [column for column in df.columns if (df[column].dtypes == 'object') ]\n",
    "print(\"Categorical Features: \")\n",
    "cat_features"
   ]
  },
  {
   "cell_type": "code",
   "execution_count": 13,
   "metadata": {},
   "outputs": [
    {
     "name": "stdout",
     "output_type": "stream",
     "text": [
      "Numeric Features: \n"
     ]
    },
    {
     "data": {
      "text/plain": [
       "['year', 'price', 'mileage', 'tax', 'mpg', 'engineSize']"
      ]
     },
     "execution_count": 13,
     "metadata": {},
     "output_type": "execute_result"
    }
   ],
   "source": [
    "numeric_features = [column for column in df.columns if (df[column].dtypes != 'object') ]\n",
    "print(\"Numeric Features: \")\n",
    "numeric_features"
   ]
  },
  {
   "cell_type": "code",
   "execution_count": 14,
   "metadata": {},
   "outputs": [
    {
     "data": {
      "text/plain": [
       "array(['audi', 'bmw', 'focus', 'ford', 'hyundi', 'merc', 'skoda',\n",
       "       'toyota', 'vauxhall', 'vw'], dtype=object)"
      ]
     },
     "execution_count": 14,
     "metadata": {},
     "output_type": "execute_result"
    }
   ],
   "source": [
    "#What brands do we have?\n",
    "df['Brand'].unique()"
   ]
  },
  {
   "cell_type": "code",
   "execution_count": 125,
   "metadata": {},
   "outputs": [
    {
     "data": {
      "image/png": "[encoded data removed]",
      "text/plain": [
       "<Figure size 600x300 with 1 Axes>"
      ]
     },
     "metadata": {},
     "output_type": "display_data"
    }
   ],
   "source": [
    "# Average mileage for a car for each brand\n",
    "df_by_mileagedf=df.groupby(['Brand'])['mileage'].mean().sort_values(ascending=False).round().reset_index(name='Mileage')\n",
    "\n",
    "plt.figure(figsize=(6,3))\n",
    "plt.title(\"Average Mileage per brand\")\n",
    "sns.barplot(x='Brand', y ='Mileage', data=df_by_mileagedf, errorbar='sd')\n",
    "plt.show()"
   ]
  },
  {
   "cell_type": "markdown",
   "metadata": {},
   "source": [
    "- BMW, AUDI and VAUXHALL has the highest used car has the highest Mileage"
   ]
  },
  {
   "cell_type": "code",
   "execution_count": 124,
   "metadata": {},
   "outputs": [
    {
     "data": {
      "image/png": "[encoded data removed]",
      "text/plain": [
       "<Figure size 600x300 with 1 Axes>"
      ]
     },
     "metadata": {},
     "output_type": "display_data"
    }
   ],
   "source": [
    "# Average price for a car for each brand\n",
    "df_by_price = df.groupby(['Brand'])['price'].mean().sort_values(ascending=False).round().reset_index(name='price').sort_values(by='price', ascending=True)\n",
    "df_by_price\n",
    "plt.figure(figsize=(6,3))\n",
    "plt.title(\"Average price per brand\")\n",
    "sns.barplot(x='Brand',y='price', data=df, errorbar=\"sd\")\n",
    "plt.show()"
   ]
  },
  {
   "cell_type": "markdown",
   "metadata": {},
   "source": [
    "-   MERC, AUDI AND BMW SHOWS THE HIGHEST STDv... lets take a look if thats true"
   ]
  },
  {
   "cell_type": "code",
   "execution_count": 161,
   "metadata": {},
   "outputs": [
    {
     "name": "stdout",
     "output_type": "stream",
     "text": [
      "The stdv for:  audi  is:   11723.0  with a mean of:  22854.0  and a Coeficient of variation of:  0.513\n",
      "The stdv for:  bmw  is:   11435.0  with a mean of:  22693.0  and a Coeficient of variation of:  0.504\n",
      "The stdv for:  focus  is:   4659.0  with a mean of:  13253.0  and a Coeficient of variation of:  0.352\n",
      "The stdv for:  ford  is:   4736.0  with a mean of:  12270.0  and a Coeficient of variation of:  0.386\n",
      "The stdv for:  hyundi  is:   5973.0  with a mean of:  12724.0  and a Coeficient of variation of:  0.469\n",
      "The stdv for:  merc  is:   11874.0  with a mean of:  24636.0  and a Coeficient of variation of:  0.482\n",
      "The stdv for:  skoda  is:   6340.0  with a mean of:  14285.0  and a Coeficient of variation of:  0.444\n",
      "The stdv for:  toyota  is:   6359.0  with a mean of:  12530.0  and a Coeficient of variation of:  0.507\n",
      "The stdv for:  vauxhall  is:   3530.0  with a mean of:  10314.0  and a Coeficient of variation of:  0.342\n",
      "The stdv for:  vw  is:   7736.0  with a mean of:  16808.0  and a Coeficient of variation of:  0.46\n"
     ]
    }
   ],
   "source": [
    "for brand in df['Brand'].unique():\n",
    "    brand_std = df.loc[\n",
    "        df['Brand'] == brand\n",
    "    ]['price'].std()\n",
    "    brand_mean = df.loc[\n",
    "        df['Brand'] == brand\n",
    "    ]['price'].mean()\n",
    "\n",
    "    print('The stdv for: ', brand , \" is:  \", brand_std.round(), \" with a mean of: \", brand_mean.round(), \" and a Coeficient of variation of: \", (brand_std/brand_mean).round(3))"
   ]
  },
  {
   "cell_type": "markdown",
   "metadata": {},
   "source": [
    "-   Indeed! Merc, Audi and bmw have the highest stdv among the brands! we can expect a wider spread in the distribuition plot for these brands!\n",
    "    lets take a look!"
   ]
  },
  {
   "cell_type": "code",
   "execution_count": 168,
   "metadata": {},
   "outputs": [
    {
     "data": {
      "text/plain": [
       "<Figure size 600x300 with 0 Axes>"
      ]
     },
     "metadata": {},
     "output_type": "display_data"
    },
    {
     "data": {
      "image/png": "[encoded data removed]",
      "text/plain": [
       "<Figure size 609x500 with 1 Axes>"
      ]
     },
     "metadata": {},
     "output_type": "display_data"
    }
   ],
   "source": [
    "plt.figure(figsize=(6,3))\n",
    "sns.displot(data=df, x='price', hue='Brand', kind ='kde')\n",
    "plt.show()"
   ]
  },
  {
   "cell_type": "markdown",
   "metadata": {},
   "source": [
    "- is not that wide... lets take a look at the mean"
   ]
  }
 ],
 "metadata": {
  "kernelspec": {
   "display_name": "Python 3.8.0 (conda)",
   "language": "python",
   "name": "python3"
  },
  "language_info": {
   "codemirror_mode": {
    "name": "ipython",
    "version": 3
   },
   "file_extension": ".py",
   "mimetype": "text/x-python",
   "name": "python",
   "nbconvert_exporter": "python",
   "pygments_lexer": "ipython3",
   "version": "3.8.16"
  },
  "orig_nbformat": 4,
  "vscode": {
   "interpreter": {
    "hash": "9c7d38d05ea5db931e451cf0ba2a328203d49853faf9a6a6b7711a1531ba81d2"
   }
  }
 },
 "nbformat": 4,
 "nbformat_minor": 2
}
